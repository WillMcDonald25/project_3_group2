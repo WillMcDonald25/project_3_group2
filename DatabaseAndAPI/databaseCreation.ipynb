{
 "cells": [
  {
   "cell_type": "code",
   "execution_count": 17,
   "metadata": {},
   "outputs": [],
   "source": [
    "import sqlite3\n",
    "from pathlib import Path\n",
    "import pandas as pd"
   ]
  },
  {
   "cell_type": "code",
   "execution_count": 18,
   "metadata": {},
   "outputs": [],
   "source": [
    "# Creating the file\n",
    "Path('../Data/ILINet.sqlite').touch()"
   ]
  },
  {
   "cell_type": "code",
   "execution_count": 19,
   "metadata": {},
   "outputs": [],
   "source": [
    "# Connecting the file\n",
    "conn = sqlite3.connect('../Data/ILINet.sqlite')\n",
    "c = conn.cursor()"
   ]
  },
  {
   "cell_type": "code",
   "execution_count": 20,
   "metadata": {},
   "outputs": [
    {
     "data": {
      "text/plain": [
       "<sqlite3.Cursor at 0x1fa220f4940>"
      ]
     },
     "execution_count": 20,
     "metadata": {},
     "output_type": "execute_result"
    }
   ],
   "source": [
    "# c.execute('''DROP TABLE ilinet''')"
   ]
  },
  {
   "cell_type": "code",
   "execution_count": 21,
   "metadata": {},
   "outputs": [
    {
     "data": {
      "text/plain": [
       "<sqlite3.Cursor at 0x1fa220f4940>"
      ]
     },
     "execution_count": 21,
     "metadata": {},
     "output_type": "execute_result"
    }
   ],
   "source": [
    "# Creating the table\n",
    "c.execute('''CREATE TABLE ilinet (REGIONTYPE text,REGION text,YEAR int,WEEK int,\n",
    "PERCENTWEIGHTEDILI float,PERCENTUNWEIGHTEDILI float,\n",
    "AGE04 int,AGE2549 int,AGE2564 int,AGE524 int,AGE5064 int,AGE65 int,\n",
    "ILITOTAL int,NUMOFPROVIDERS int,TOTALPATIENTS int,ID int NOT NULL PRIMARY KEY)''')"
   ]
  },
  {
   "attachments": {},
   "cell_type": "markdown",
   "metadata": {},
   "source": [
    "Working with the data frame to include a primary key manually"
   ]
  },
  {
   "cell_type": "code",
   "execution_count": 22,
   "metadata": {},
   "outputs": [
    {
     "data": {
      "text/html": [
       "<div>\n",
       "<style scoped>\n",
       "    .dataframe tbody tr th:only-of-type {\n",
       "        vertical-align: middle;\n",
       "    }\n",
       "\n",
       "    .dataframe tbody tr th {\n",
       "        vertical-align: top;\n",
       "    }\n",
       "\n",
       "    .dataframe thead th {\n",
       "        text-align: right;\n",
       "    }\n",
       "</style>\n",
       "<table border=\"1\" class=\"dataframe\">\n",
       "  <thead>\n",
       "    <tr style=\"text-align: right;\">\n",
       "      <th></th>\n",
       "      <th>REGIONTYPE</th>\n",
       "      <th>REGION</th>\n",
       "      <th>YEAR</th>\n",
       "      <th>WEEK</th>\n",
       "      <th>PERCENTWEIGHTEDILI</th>\n",
       "      <th>PERCENTUNWEIGHTEDILI</th>\n",
       "      <th>AGE04</th>\n",
       "      <th>AGE2549</th>\n",
       "      <th>AGE2564</th>\n",
       "      <th>AGE524</th>\n",
       "      <th>AGE5064</th>\n",
       "      <th>AGE65</th>\n",
       "      <th>ILITOTAL</th>\n",
       "      <th>NUMOFPROVIDERS</th>\n",
       "      <th>TOTALPATIENTS</th>\n",
       "    </tr>\n",
       "  </thead>\n",
       "  <tbody>\n",
       "    <tr>\n",
       "      <th>0</th>\n",
       "      <td>States</td>\n",
       "      <td>Alabama</td>\n",
       "      <td>2013</td>\n",
       "      <td>40</td>\n",
       "      <td>X</td>\n",
       "      <td>1.59044</td>\n",
       "      <td>X</td>\n",
       "      <td>X</td>\n",
       "      <td>X</td>\n",
       "      <td>X</td>\n",
       "      <td>X</td>\n",
       "      <td>X</td>\n",
       "      <td>201</td>\n",
       "      <td>27</td>\n",
       "      <td>12638</td>\n",
       "    </tr>\n",
       "    <tr>\n",
       "      <th>1</th>\n",
       "      <td>States</td>\n",
       "      <td>Alaska</td>\n",
       "      <td>2013</td>\n",
       "      <td>40</td>\n",
       "      <td>X</td>\n",
       "      <td>0.6238</td>\n",
       "      <td>X</td>\n",
       "      <td>X</td>\n",
       "      <td>X</td>\n",
       "      <td>X</td>\n",
       "      <td>X</td>\n",
       "      <td>X</td>\n",
       "      <td>13</td>\n",
       "      <td>9</td>\n",
       "      <td>2084</td>\n",
       "    </tr>\n",
       "    <tr>\n",
       "      <th>2</th>\n",
       "      <td>States</td>\n",
       "      <td>Arizona</td>\n",
       "      <td>2013</td>\n",
       "      <td>40</td>\n",
       "      <td>X</td>\n",
       "      <td>0.792311</td>\n",
       "      <td>X</td>\n",
       "      <td>X</td>\n",
       "      <td>X</td>\n",
       "      <td>X</td>\n",
       "      <td>X</td>\n",
       "      <td>X</td>\n",
       "      <td>230</td>\n",
       "      <td>59</td>\n",
       "      <td>29029</td>\n",
       "    </tr>\n",
       "    <tr>\n",
       "      <th>3</th>\n",
       "      <td>States</td>\n",
       "      <td>Arkansas</td>\n",
       "      <td>2013</td>\n",
       "      <td>40</td>\n",
       "      <td>X</td>\n",
       "      <td>1.63326</td>\n",
       "      <td>X</td>\n",
       "      <td>X</td>\n",
       "      <td>X</td>\n",
       "      <td>X</td>\n",
       "      <td>X</td>\n",
       "      <td>X</td>\n",
       "      <td>66</td>\n",
       "      <td>18</td>\n",
       "      <td>4041</td>\n",
       "    </tr>\n",
       "    <tr>\n",
       "      <th>4</th>\n",
       "      <td>States</td>\n",
       "      <td>California</td>\n",
       "      <td>2013</td>\n",
       "      <td>40</td>\n",
       "      <td>X</td>\n",
       "      <td>1.52479</td>\n",
       "      <td>X</td>\n",
       "      <td>X</td>\n",
       "      <td>X</td>\n",
       "      <td>X</td>\n",
       "      <td>X</td>\n",
       "      <td>X</td>\n",
       "      <td>633</td>\n",
       "      <td>137</td>\n",
       "      <td>41514</td>\n",
       "    </tr>\n",
       "  </tbody>\n",
       "</table>\n",
       "</div>"
      ],
      "text/plain": [
       "  REGIONTYPE      REGION  YEAR  WEEK PERCENTWEIGHTEDILI PERCENTUNWEIGHTEDILI  \\\n",
       "0     States     Alabama  2013    40                  X              1.59044   \n",
       "1     States      Alaska  2013    40                  X               0.6238   \n",
       "2     States     Arizona  2013    40                  X             0.792311   \n",
       "3     States    Arkansas  2013    40                  X              1.63326   \n",
       "4     States  California  2013    40                  X              1.52479   \n",
       "\n",
       "  AGE04 AGE2549 AGE2564 AGE524 AGE5064 AGE65 ILITOTAL NUMOFPROVIDERS  \\\n",
       "0     X       X       X      X       X     X      201             27   \n",
       "1     X       X       X      X       X     X       13              9   \n",
       "2     X       X       X      X       X     X      230             59   \n",
       "3     X       X       X      X       X     X       66             18   \n",
       "4     X       X       X      X       X     X      633            137   \n",
       "\n",
       "  TOTALPATIENTS  \n",
       "0         12638  \n",
       "1          2084  \n",
       "2         29029  \n",
       "3          4041  \n",
       "4         41514  "
      ]
     },
     "execution_count": 22,
     "metadata": {},
     "output_type": "execute_result"
    }
   ],
   "source": [
    "# load the data into a Pandas DataFrame\n",
    "ili_df = pd.read_csv('../Data/ILINet.csv')\n",
    "ili_df.head()"
   ]
  },
  {
   "cell_type": "code",
   "execution_count": 23,
   "metadata": {},
   "outputs": [],
   "source": [
    "# creating a list for the primary key\n",
    "i = 0\n",
    "id_vals=[]\n",
    "for i in range(len(ili_df)):\n",
    "    id_vals.append(i)\n",
    "    i += 1\n",
    "\n"
   ]
  },
  {
   "cell_type": "code",
   "execution_count": 24,
   "metadata": {},
   "outputs": [],
   "source": [
    "# assigning the id into the dataframe\n",
    "ili_df[\"ID\"] = id_vals"
   ]
  },
  {
   "cell_type": "code",
   "execution_count": 36,
   "metadata": {},
   "outputs": [
    {
     "data": {
      "text/html": [
       "<div>\n",
       "<style scoped>\n",
       "    .dataframe tbody tr th:only-of-type {\n",
       "        vertical-align: middle;\n",
       "    }\n",
       "\n",
       "    .dataframe tbody tr th {\n",
       "        vertical-align: top;\n",
       "    }\n",
       "\n",
       "    .dataframe thead th {\n",
       "        text-align: right;\n",
       "    }\n",
       "</style>\n",
       "<table border=\"1\" class=\"dataframe\">\n",
       "  <thead>\n",
       "    <tr style=\"text-align: right;\">\n",
       "      <th></th>\n",
       "      <th>REGIONTYPE</th>\n",
       "      <th>REGION</th>\n",
       "      <th>YEAR</th>\n",
       "      <th>WEEK</th>\n",
       "      <th>PERCENTWEIGHTEDILI</th>\n",
       "      <th>PERCENTUNWEIGHTEDILI</th>\n",
       "      <th>AGE04</th>\n",
       "      <th>AGE2549</th>\n",
       "      <th>AGE2564</th>\n",
       "      <th>AGE524</th>\n",
       "      <th>AGE5064</th>\n",
       "      <th>AGE65</th>\n",
       "      <th>ILITOTAL</th>\n",
       "      <th>NUMOFPROVIDERS</th>\n",
       "      <th>TOTALPATIENTS</th>\n",
       "      <th>ID</th>\n",
       "    </tr>\n",
       "  </thead>\n",
       "  <tbody>\n",
       "    <tr>\n",
       "      <th>0</th>\n",
       "      <td>States</td>\n",
       "      <td>Alabama</td>\n",
       "      <td>2013</td>\n",
       "      <td>40</td>\n",
       "      <td>X</td>\n",
       "      <td>1.59044</td>\n",
       "      <td>X</td>\n",
       "      <td>X</td>\n",
       "      <td>X</td>\n",
       "      <td>X</td>\n",
       "      <td>X</td>\n",
       "      <td>X</td>\n",
       "      <td>201</td>\n",
       "      <td>27</td>\n",
       "      <td>12638</td>\n",
       "      <td>0</td>\n",
       "    </tr>\n",
       "    <tr>\n",
       "      <th>1</th>\n",
       "      <td>States</td>\n",
       "      <td>Alaska</td>\n",
       "      <td>2013</td>\n",
       "      <td>40</td>\n",
       "      <td>X</td>\n",
       "      <td>0.6238</td>\n",
       "      <td>X</td>\n",
       "      <td>X</td>\n",
       "      <td>X</td>\n",
       "      <td>X</td>\n",
       "      <td>X</td>\n",
       "      <td>X</td>\n",
       "      <td>13</td>\n",
       "      <td>9</td>\n",
       "      <td>2084</td>\n",
       "      <td>1</td>\n",
       "    </tr>\n",
       "    <tr>\n",
       "      <th>2</th>\n",
       "      <td>States</td>\n",
       "      <td>Arizona</td>\n",
       "      <td>2013</td>\n",
       "      <td>40</td>\n",
       "      <td>X</td>\n",
       "      <td>0.792311</td>\n",
       "      <td>X</td>\n",
       "      <td>X</td>\n",
       "      <td>X</td>\n",
       "      <td>X</td>\n",
       "      <td>X</td>\n",
       "      <td>X</td>\n",
       "      <td>230</td>\n",
       "      <td>59</td>\n",
       "      <td>29029</td>\n",
       "      <td>2</td>\n",
       "    </tr>\n",
       "    <tr>\n",
       "      <th>3</th>\n",
       "      <td>States</td>\n",
       "      <td>Arkansas</td>\n",
       "      <td>2013</td>\n",
       "      <td>40</td>\n",
       "      <td>X</td>\n",
       "      <td>1.63326</td>\n",
       "      <td>X</td>\n",
       "      <td>X</td>\n",
       "      <td>X</td>\n",
       "      <td>X</td>\n",
       "      <td>X</td>\n",
       "      <td>X</td>\n",
       "      <td>66</td>\n",
       "      <td>18</td>\n",
       "      <td>4041</td>\n",
       "      <td>3</td>\n",
       "    </tr>\n",
       "    <tr>\n",
       "      <th>4</th>\n",
       "      <td>States</td>\n",
       "      <td>California</td>\n",
       "      <td>2013</td>\n",
       "      <td>40</td>\n",
       "      <td>X</td>\n",
       "      <td>1.52479</td>\n",
       "      <td>X</td>\n",
       "      <td>X</td>\n",
       "      <td>X</td>\n",
       "      <td>X</td>\n",
       "      <td>X</td>\n",
       "      <td>X</td>\n",
       "      <td>633</td>\n",
       "      <td>137</td>\n",
       "      <td>41514</td>\n",
       "      <td>4</td>\n",
       "    </tr>\n",
       "    <tr>\n",
       "      <th>...</th>\n",
       "      <td>...</td>\n",
       "      <td>...</td>\n",
       "      <td>...</td>\n",
       "      <td>...</td>\n",
       "      <td>...</td>\n",
       "      <td>...</td>\n",
       "      <td>...</td>\n",
       "      <td>...</td>\n",
       "      <td>...</td>\n",
       "      <td>...</td>\n",
       "      <td>...</td>\n",
       "      <td>...</td>\n",
       "      <td>...</td>\n",
       "      <td>...</td>\n",
       "      <td>...</td>\n",
       "      <td>...</td>\n",
       "    </tr>\n",
       "    <tr>\n",
       "      <th>8468</th>\n",
       "      <td>States</td>\n",
       "      <td>Utah</td>\n",
       "      <td>2016</td>\n",
       "      <td>39</td>\n",
       "      <td>X</td>\n",
       "      <td>0.530623</td>\n",
       "      <td>X</td>\n",
       "      <td>X</td>\n",
       "      <td>X</td>\n",
       "      <td>X</td>\n",
       "      <td>X</td>\n",
       "      <td>X</td>\n",
       "      <td>59</td>\n",
       "      <td>39</td>\n",
       "      <td>11119</td>\n",
       "      <td>8468</td>\n",
       "    </tr>\n",
       "    <tr>\n",
       "      <th>8469</th>\n",
       "      <td>States</td>\n",
       "      <td>Vermont</td>\n",
       "      <td>2016</td>\n",
       "      <td>39</td>\n",
       "      <td>X</td>\n",
       "      <td>1.81564</td>\n",
       "      <td>X</td>\n",
       "      <td>X</td>\n",
       "      <td>X</td>\n",
       "      <td>X</td>\n",
       "      <td>X</td>\n",
       "      <td>X</td>\n",
       "      <td>13</td>\n",
       "      <td>4</td>\n",
       "      <td>716</td>\n",
       "      <td>8469</td>\n",
       "    </tr>\n",
       "    <tr>\n",
       "      <th>8470</th>\n",
       "      <td>States</td>\n",
       "      <td>Virginia</td>\n",
       "      <td>2016</td>\n",
       "      <td>39</td>\n",
       "      <td>X</td>\n",
       "      <td>1.54346</td>\n",
       "      <td>X</td>\n",
       "      <td>X</td>\n",
       "      <td>X</td>\n",
       "      <td>X</td>\n",
       "      <td>X</td>\n",
       "      <td>X</td>\n",
       "      <td>1360</td>\n",
       "      <td>136</td>\n",
       "      <td>88114</td>\n",
       "      <td>8470</td>\n",
       "    </tr>\n",
       "    <tr>\n",
       "      <th>8471</th>\n",
       "      <td>States</td>\n",
       "      <td>Washington</td>\n",
       "      <td>2016</td>\n",
       "      <td>39</td>\n",
       "      <td>X</td>\n",
       "      <td>0.261976</td>\n",
       "      <td>X</td>\n",
       "      <td>X</td>\n",
       "      <td>X</td>\n",
       "      <td>X</td>\n",
       "      <td>X</td>\n",
       "      <td>X</td>\n",
       "      <td>7</td>\n",
       "      <td>30</td>\n",
       "      <td>2672</td>\n",
       "      <td>8471</td>\n",
       "    </tr>\n",
       "    <tr>\n",
       "      <th>8472</th>\n",
       "      <td>States</td>\n",
       "      <td>West Virginia</td>\n",
       "      <td>2016</td>\n",
       "      <td>39</td>\n",
       "      <td>X</td>\n",
       "      <td>0.865301</td>\n",
       "      <td>X</td>\n",
       "      <td>X</td>\n",
       "      <td>X</td>\n",
       "      <td>X</td>\n",
       "      <td>X</td>\n",
       "      <td>X</td>\n",
       "      <td>120</td>\n",
       "      <td>32</td>\n",
       "      <td>13868</td>\n",
       "      <td>8472</td>\n",
       "    </tr>\n",
       "  </tbody>\n",
       "</table>\n",
       "<p>8473 rows × 16 columns</p>\n",
       "</div>"
      ],
      "text/plain": [
       "     REGIONTYPE         REGION  YEAR  WEEK PERCENTWEIGHTEDILI  \\\n",
       "0        States        Alabama  2013    40                  X   \n",
       "1        States         Alaska  2013    40                  X   \n",
       "2        States        Arizona  2013    40                  X   \n",
       "3        States       Arkansas  2013    40                  X   \n",
       "4        States     California  2013    40                  X   \n",
       "...         ...            ...   ...   ...                ...   \n",
       "8468     States           Utah  2016    39                  X   \n",
       "8469     States        Vermont  2016    39                  X   \n",
       "8470     States       Virginia  2016    39                  X   \n",
       "8471     States     Washington  2016    39                  X   \n",
       "8472     States  West Virginia  2016    39                  X   \n",
       "\n",
       "     PERCENTUNWEIGHTEDILI AGE04 AGE2549 AGE2564 AGE524 AGE5064 AGE65 ILITOTAL  \\\n",
       "0                 1.59044     X       X       X      X       X     X      201   \n",
       "1                  0.6238     X       X       X      X       X     X       13   \n",
       "2                0.792311     X       X       X      X       X     X      230   \n",
       "3                 1.63326     X       X       X      X       X     X       66   \n",
       "4                 1.52479     X       X       X      X       X     X      633   \n",
       "...                   ...   ...     ...     ...    ...     ...   ...      ...   \n",
       "8468             0.530623     X       X       X      X       X     X       59   \n",
       "8469              1.81564     X       X       X      X       X     X       13   \n",
       "8470              1.54346     X       X       X      X       X     X     1360   \n",
       "8471             0.261976     X       X       X      X       X     X        7   \n",
       "8472             0.865301     X       X       X      X       X     X      120   \n",
       "\n",
       "     NUMOFPROVIDERS TOTALPATIENTS    ID  \n",
       "0                27         12638     0  \n",
       "1                 9          2084     1  \n",
       "2                59         29029     2  \n",
       "3                18          4041     3  \n",
       "4               137         41514     4  \n",
       "...             ...           ...   ...  \n",
       "8468             39         11119  8468  \n",
       "8469              4           716  8469  \n",
       "8470            136         88114  8470  \n",
       "8471             30          2672  8471  \n",
       "8472             32         13868  8472  \n",
       "\n",
       "[8473 rows x 16 columns]"
      ]
     },
     "execution_count": 36,
     "metadata": {},
     "output_type": "execute_result"
    }
   ],
   "source": [
    "ili_df.head(-5)"
   ]
  },
  {
   "cell_type": "code",
   "execution_count": 26,
   "metadata": {},
   "outputs": [
    {
     "data": {
      "text/plain": [
       "8478"
      ]
     },
     "execution_count": 26,
     "metadata": {},
     "output_type": "execute_result"
    }
   ],
   "source": [
    "# write the data to a sqlite table\n",
    "ili_df.to_sql('ilinet', conn, if_exists='append', index = False)"
   ]
  },
  {
   "cell_type": "code",
   "execution_count": 27,
   "metadata": {},
   "outputs": [
    {
     "data": {
      "text/plain": [
       "('States',\n",
       " 'Alabama',\n",
       " 2013,\n",
       " 40,\n",
       " 'X',\n",
       " 1.59044,\n",
       " 'X',\n",
       " 'X',\n",
       " 'X',\n",
       " 'X',\n",
       " 'X',\n",
       " 'X',\n",
       " 201,\n",
       " 27,\n",
       " 12638,\n",
       " 0)"
      ]
     },
     "execution_count": 27,
     "metadata": {},
     "output_type": "execute_result"
    }
   ],
   "source": [
    "# Checking that it loaded correctly\n",
    "c.execute('''SELECT * FROM ilinet''').fetchone()"
   ]
  },
  {
   "cell_type": "code",
   "execution_count": 28,
   "metadata": {},
   "outputs": [
    {
     "data": {
      "text/plain": [
       "<sqlite3.Cursor at 0x1fa220f4940>"
      ]
     },
     "execution_count": 28,
     "metadata": {},
     "output_type": "execute_result"
    }
   ],
   "source": [
    "# Removing most of the null data\n",
    "c.execute('''ALTER TABLE ilinet DROP COLUMN REGIONTYPE''')\n",
    "c.execute('''ALTER TABLE ilinet DROP COLUMN PERCENTWEIGHTEDILI''')\n",
    "c.execute('''ALTER TABLE ilinet DROP COLUMN AGE04''')\n",
    "c.execute('''ALTER TABLE ilinet DROP COLUMN AGE2549''')\n",
    "c.execute('''ALTER TABLE ilinet DROP COLUMN AGE2564''')\n",
    "c.execute('''ALTER TABLE ilinet DROP COLUMN AGE524''')\n",
    "c.execute('''ALTER TABLE ilinet DROP COLUMN AGE5064''')\n",
    "c.execute('''ALTER TABLE ilinet DROP COLUMN AGE65''')\n",
    "\n"
   ]
  },
  {
   "cell_type": "code",
   "execution_count": 29,
   "metadata": {},
   "outputs": [
    {
     "data": {
      "text/plain": [
       "('Alabama', 2013, 40, 1.59044, 201, 27, 12638, 0)"
      ]
     },
     "execution_count": 29,
     "metadata": {},
     "output_type": "execute_result"
    }
   ],
   "source": [
    "# Checking for a final time\n",
    "c.execute('''SELECT * FROM ilinet''').fetchone()"
   ]
  },
  {
   "attachments": {},
   "cell_type": "markdown",
   "metadata": {},
   "source": [
    "Parse the db so we can load the api from it"
   ]
  },
  {
   "cell_type": "code",
   "execution_count": 30,
   "metadata": {},
   "outputs": [],
   "source": [
    "import numpy as np\n",
    "import datetime as dt\n",
    "import sqlalchemy\n",
    "from sqlalchemy.ext.automap import automap_base\n",
    "from sqlalchemy.orm import Session\n",
    "from sqlalchemy import create_engine, func\n",
    "from flask import Flask, jsonify"
   ]
  },
  {
   "cell_type": "code",
   "execution_count": 31,
   "metadata": {},
   "outputs": [],
   "source": [
    "Base = automap_base()"
   ]
  },
  {
   "cell_type": "code",
   "execution_count": 32,
   "metadata": {},
   "outputs": [],
   "source": [
    "# Setting up the DB\n",
    "engine = create_engine(\"sqlite:///../Data/ILINet.sqlite\")"
   ]
  },
  {
   "cell_type": "code",
   "execution_count": 33,
   "metadata": {},
   "outputs": [],
   "source": [
    "# Reflect the tables\n",
    "Base.prepare(autoload_with=engine)"
   ]
  },
  {
   "cell_type": "code",
   "execution_count": 34,
   "metadata": {},
   "outputs": [
    {
     "data": {
      "text/plain": [
       "['ilinet']"
      ]
     },
     "execution_count": 34,
     "metadata": {},
     "output_type": "execute_result"
    }
   ],
   "source": [
    "# Save the table reference\n",
    "Base.classes.keys()"
   ]
  }
 ],
 "metadata": {
  "kernelspec": {
   "display_name": "Python 3",
   "language": "python",
   "name": "python3"
  },
  "language_info": {
   "codemirror_mode": {
    "name": "ipython",
    "version": 3
   },
   "file_extension": ".py",
   "mimetype": "text/x-python",
   "name": "python",
   "nbconvert_exporter": "python",
   "pygments_lexer": "ipython3",
   "version": "3.10.11"
  },
  "orig_nbformat": 4
 },
 "nbformat": 4,
 "nbformat_minor": 2
}
